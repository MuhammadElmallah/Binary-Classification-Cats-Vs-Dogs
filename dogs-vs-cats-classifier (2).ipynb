{
 "cells": [
  {
   "cell_type": "markdown",
   "id": "842716c5",
   "metadata": {
    "_cell_guid": "c831ba66-35dd-461a-9dda-1c57cc05c76e",
    "_uuid": "02157803-9187-45c6-9f68-20e0171e99d2",
    "papermill": {
     "duration": 0.022166,
     "end_time": "2021-07-24T22:15:16.819761",
     "exception": false,
     "start_time": "2021-07-24T22:15:16.797595",
     "status": "completed"
    },
    "tags": []
   },
   "source": [
    "* In this notebook we are trying to build a model that has the ability to classify cats and dogs. \n",
    "* The input data we will use is from a dataset provided by kaggle.\n",
    "* This dataset consists of 25,000 images of cats and dogs.\n",
    "* The dataset we will use is saved for us in '/kaggle/input/dogs-vs-cats'.\n",
    "* The following command is to show us the format of the data."
   ]
  },
  {
   "cell_type": "code",
   "execution_count": 1,
   "id": "12825154",
   "metadata": {
    "_cell_guid": "3037c2a8-bb64-414b-b6e0-490d9b2852f6",
    "_uuid": "ea821b8e-9115-4ee0-8d51-14ba9a3d4eaf",
    "collapsed": false,
    "execution": {
     "iopub.execute_input": "2021-07-24T22:15:16.868798Z",
     "iopub.status.busy": "2021-07-24T22:15:16.867815Z",
     "iopub.status.idle": "2021-07-24T22:15:16.874156Z",
     "shell.execute_reply": "2021-07-24T22:15:16.873457Z",
     "shell.execute_reply.started": "2021-07-24T14:27:02.784963Z"
    },
    "jupyter": {
     "outputs_hidden": false
    },
    "papermill": {
     "duration": 0.034892,
     "end_time": "2021-07-24T22:15:16.874326",
     "exception": false,
     "start_time": "2021-07-24T22:15:16.839434",
     "status": "completed"
    },
    "tags": []
   },
   "outputs": [
    {
     "name": "stdout",
     "output_type": "stream",
     "text": [
      "test1.zip\n",
      "train.zip\n",
      "sampleSubmission.csv\n"
     ]
    }
   ],
   "source": [
    "import os\n",
    "for file in os.listdir('/kaggle/input/dogs-vs-cats'):\n",
    "    print(file)"
   ]
  },
  {
   "cell_type": "markdown",
   "id": "ee312071",
   "metadata": {
    "_cell_guid": "01da1315-2a2c-4357-9321-c5948e3b704b",
    "_uuid": "13fc15b8-6c5f-4639-a6df-ebad1b22e181",
    "execution": {
     "iopub.execute_input": "2021-07-20T16:53:57.253165Z",
     "iopub.status.busy": "2021-07-20T16:53:57.252742Z",
     "iopub.status.idle": "2021-07-20T16:53:57.262173Z",
     "shell.execute_reply": "2021-07-20T16:53:57.260371Z",
     "shell.execute_reply.started": "2021-07-20T16:53:57.253128Z"
    },
    "papermill": {
     "duration": 0.018654,
     "end_time": "2021-07-24T22:15:16.910894",
     "exception": false,
     "start_time": "2021-07-24T22:15:16.892240",
     "status": "completed"
    },
    "tags": []
   },
   "source": [
    "**As shown above, the data is stored in two zip files named test1.zip and train.zip. So in order to deal with the data, we first have to extract these files.**"
   ]
  },
  {
   "cell_type": "code",
   "execution_count": 2,
   "id": "eac9cd74",
   "metadata": {
    "_cell_guid": "24a61677-aa14-4b9b-8236-8dfa2e188b7a",
    "_uuid": "803dfac7-0bb1-46e4-a967-27c5fe1f6a65",
    "collapsed": false,
    "execution": {
     "iopub.execute_input": "2021-07-24T22:15:16.965228Z",
     "iopub.status.busy": "2021-07-24T22:15:16.964636Z",
     "iopub.status.idle": "2021-07-24T22:15:34.937317Z",
     "shell.execute_reply": "2021-07-24T22:15:34.936797Z",
     "shell.execute_reply.started": "2021-07-24T14:27:02.800705Z"
    },
    "jupyter": {
     "outputs_hidden": false
    },
    "papermill": {
     "duration": 18.005846,
     "end_time": "2021-07-24T22:15:34.937448",
     "exception": false,
     "start_time": "2021-07-24T22:15:16.931602",
     "status": "completed"
    },
    "tags": []
   },
   "outputs": [],
   "source": [
    "from zipfile import ZipFile as zf\n",
    "train_zip = zf('/kaggle/input/dogs-vs-cats/train.zip', 'r')\n",
    "train_zip.extractall()\n",
    "train_zip.close()\n",
    "test_zip = zf('/kaggle/input/dogs-vs-cats/test1.zip', 'r')\n",
    "test_zip.extractall()\n",
    "test_zip.close()"
   ]
  },
  {
   "cell_type": "markdown",
   "id": "bf28a0b8",
   "metadata": {
    "_cell_guid": "3ca612d7-fd9d-45bd-adec-2be56ee31c2d",
    "_uuid": "0a23457a-47fc-4506-8b35-ab50bf961246",
    "papermill": {
     "duration": 0.016873,
     "end_time": "2021-07-24T22:15:34.971770",
     "exception": false,
     "start_time": "2021-07-24T22:15:34.954897",
     "status": "completed"
    },
    "tags": []
   },
   "source": [
    "Now we have two main directories containing the dataset, a directory for the training set and another one for the test set. Both directories are in the working directory \"./\". Let's see how big is the dataset."
   ]
  },
  {
   "cell_type": "code",
   "execution_count": 3,
   "id": "a5c64f98",
   "metadata": {
    "_cell_guid": "65475112-2609-46a8-ac41-2af1b12e451a",
    "_uuid": "2f7cbf7b-1de2-417e-9f5d-284b746aa937",
    "collapsed": false,
    "execution": {
     "iopub.execute_input": "2021-07-24T22:15:35.010645Z",
     "iopub.status.busy": "2021-07-24T22:15:35.009918Z",
     "iopub.status.idle": "2021-07-24T22:15:35.052991Z",
     "shell.execute_reply": "2021-07-24T22:15:35.052339Z",
     "shell.execute_reply.started": "2021-07-24T14:27:20.177856Z"
    },
    "jupyter": {
     "outputs_hidden": false
    },
    "papermill": {
     "duration": 0.06432,
     "end_time": "2021-07-24T22:15:35.053135",
     "exception": false,
     "start_time": "2021-07-24T22:15:34.988815",
     "status": "completed"
    },
    "tags": []
   },
   "outputs": [
    {
     "name": "stdout",
     "output_type": "stream",
     "text": [
      "there exist 25000 training examples\n",
      "there exist 12500 test examples\n",
      "['dog.5731.jpg', 'cat.9891.jpg', 'cat.4866.jpg', 'dog.5806.jpg', 'dog.7041.jpg', 'cat.5759.jpg', 'dog.1443.jpg', 'dog.7823.jpg', 'dog.9624.jpg', 'dog.3316.jpg']\n",
      "['10706.jpg', '9403.jpg', '10585.jpg', '7434.jpg', '8928.jpg', '2961.jpg', '2565.jpg', '6760.jpg', '7255.jpg', '9799.jpg']\n"
     ]
    }
   ],
   "source": [
    "print('there exist ' + str(len(os.listdir('./train'))) + ' training examples')\n",
    "print('there exist ' + str(len(os.listdir('./test1'))) + ' test examples')\n",
    "print(os.listdir('./train')[0:10]) # print the first ten file names in the training set\n",
    "print(os.listdir('./test1')[0:10]) # print the first ten file names in the training set"
   ]
  },
  {
   "cell_type": "markdown",
   "id": "d1ab92ad",
   "metadata": {
    "_cell_guid": "ffb58adb-a1d2-4095-918b-52ac923e9a4e",
    "_uuid": "7e637c82-20bd-401b-ab59-e39be367ca60",
    "papermill": {
     "duration": 0.016988,
     "end_time": "2021-07-24T22:15:35.087930",
     "exception": false,
     "start_time": "2021-07-24T22:15:35.070942",
     "status": "completed"
    },
    "tags": []
   },
   "source": [
    "Now that we have 25,000 training examples, we will split them into training set and validation set. We will not deal with the 12500 testing examoles now."
   ]
  },
  {
   "cell_type": "code",
   "execution_count": 4,
   "id": "0a61877a",
   "metadata": {
    "_cell_guid": "69a1490f-7e71-46dd-bcf9-12d0dffae007",
    "_uuid": "7fe36f7e-746b-4329-a35f-92c87b91cf0d",
    "collapsed": false,
    "execution": {
     "iopub.execute_input": "2021-07-24T22:15:35.126154Z",
     "iopub.status.busy": "2021-07-24T22:15:35.125615Z",
     "iopub.status.idle": "2021-07-24T22:15:35.129353Z",
     "shell.execute_reply": "2021-07-24T22:15:35.129723Z",
     "shell.execute_reply.started": "2021-07-24T14:27:20.226096Z"
    },
    "jupyter": {
     "outputs_hidden": false
    },
    "papermill": {
     "duration": 0.02428,
     "end_time": "2021-07-24T22:15:35.129842",
     "exception": false,
     "start_time": "2021-07-24T22:15:35.105562",
     "status": "completed"
    },
    "tags": []
   },
   "outputs": [],
   "source": [
    "os.mkdir('./train1')\n",
    "os.mkdir('./train1/cats')\n",
    "os.mkdir('./train1/dogs')"
   ]
  },
  {
   "cell_type": "code",
   "execution_count": 5,
   "id": "f7e94df6",
   "metadata": {
    "_cell_guid": "66929db7-3907-4553-803f-795c32803bda",
    "_uuid": "f2048147-7535-46d2-8565-5025beab429b",
    "collapsed": false,
    "execution": {
     "iopub.execute_input": "2021-07-24T22:15:35.169382Z",
     "iopub.status.busy": "2021-07-24T22:15:35.168652Z",
     "iopub.status.idle": "2021-07-24T22:15:37.701537Z",
     "shell.execute_reply": "2021-07-24T22:15:37.700632Z",
     "shell.execute_reply.started": "2021-07-24T14:27:20.232361Z"
    },
    "jupyter": {
     "outputs_hidden": false
    },
    "papermill": {
     "duration": 2.554479,
     "end_time": "2021-07-24T22:15:37.701677",
     "exception": false,
     "start_time": "2021-07-24T22:15:35.147198",
     "status": "completed"
    },
    "tags": []
   },
   "outputs": [],
   "source": [
    "import shutil\n",
    "\n",
    "for file_name in os.listdir('./train'):\n",
    "    if file_name.split('.')[0] == 'cat':\n",
    "        shutil.copy(os.path.join('./train/', file_name) , os.path.join('./train1/cats', file_name))\n",
    "    elif file_name.split('.')[0] == 'dog':\n",
    "        shutil.copy(os.path.join('./train/', file_name) , os.path.join('./train1/dogs', file_name))"
   ]
  },
  {
   "cell_type": "code",
   "execution_count": 6,
   "id": "289b596f",
   "metadata": {
    "_cell_guid": "ca8de899-a4ad-43a2-aca4-971ae23e3851",
    "_uuid": "3704662d-8491-41f8-9944-79f0406726a1",
    "collapsed": false,
    "execution": {
     "iopub.execute_input": "2021-07-24T22:15:37.742005Z",
     "iopub.status.busy": "2021-07-24T22:15:37.741273Z",
     "iopub.status.idle": "2021-07-24T22:15:37.757687Z",
     "shell.execute_reply": "2021-07-24T22:15:37.758280Z",
     "shell.execute_reply.started": "2021-07-24T14:27:23.089339Z"
    },
    "jupyter": {
     "outputs_hidden": false
    },
    "papermill": {
     "duration": 0.038243,
     "end_time": "2021-07-24T22:15:37.758455",
     "exception": false,
     "start_time": "2021-07-24T22:15:37.720212",
     "status": "completed"
    },
    "tags": []
   },
   "outputs": [
    {
     "name": "stdout",
     "output_type": "stream",
     "text": [
      "12500\n",
      "12500\n"
     ]
    }
   ],
   "source": [
    "print(len(os.listdir('./train1/cats')))\n",
    "print(len(os.listdir('./train1/dogs')))"
   ]
  },
  {
   "cell_type": "markdown",
   "id": "d1d7a628",
   "metadata": {
    "_cell_guid": "d8b6225c-88b2-4ebc-8a23-22d5a2cfcf5e",
    "_uuid": "4e319148-137f-4377-8196-49fb75313759",
    "papermill": {
     "duration": 0.017399,
     "end_time": "2021-07-24T22:15:37.794246",
     "exception": false,
     "start_time": "2021-07-24T22:15:37.776847",
     "status": "completed"
    },
    "tags": []
   },
   "source": [
    "Now we want to split the data into training and validation"
   ]
  },
  {
   "cell_type": "code",
   "execution_count": 7,
   "id": "b24a3cbe",
   "metadata": {
    "_cell_guid": "7cb3e794-37da-41fd-8efc-1222ec1497de",
    "_uuid": "350097e4-6517-4e15-893c-c47ddf2213e4",
    "collapsed": false,
    "execution": {
     "iopub.execute_input": "2021-07-24T22:15:37.834769Z",
     "iopub.status.busy": "2021-07-24T22:15:37.834138Z",
     "iopub.status.idle": "2021-07-24T22:15:37.837011Z",
     "shell.execute_reply": "2021-07-24T22:15:37.836601Z",
     "shell.execute_reply.started": "2021-07-24T14:27:23.111501Z"
    },
    "jupyter": {
     "outputs_hidden": false
    },
    "papermill": {
     "duration": 0.025336,
     "end_time": "2021-07-24T22:15:37.837119",
     "exception": false,
     "start_time": "2021-07-24T22:15:37.811783",
     "status": "completed"
    },
    "tags": []
   },
   "outputs": [],
   "source": [
    "os.mkdir('./training_set')\n",
    "os.mkdir('./training_set/cats')\n",
    "os.mkdir('./training_set/dogs')\n",
    "os.mkdir('./val_set')\n",
    "os.mkdir('./val_set/cats')\n",
    "os.mkdir('./val_set/dogs')"
   ]
  },
  {
   "cell_type": "code",
   "execution_count": 8,
   "id": "5eeac438",
   "metadata": {
    "_cell_guid": "172ddc66-5db6-43e3-86f3-47aca364ea0f",
    "_uuid": "98603900-1718-4148-9255-248242d6208a",
    "collapsed": false,
    "execution": {
     "iopub.execute_input": "2021-07-24T22:15:37.879450Z",
     "iopub.status.busy": "2021-07-24T22:15:37.878708Z",
     "iopub.status.idle": "2021-07-24T22:15:41.021615Z",
     "shell.execute_reply": "2021-07-24T22:15:41.022670Z",
     "shell.execute_reply.started": "2021-07-24T14:27:23.153826Z"
    },
    "jupyter": {
     "outputs_hidden": false
    },
    "papermill": {
     "duration": 3.168351,
     "end_time": "2021-07-24T22:15:41.022951",
     "exception": false,
     "start_time": "2021-07-24T22:15:37.854600",
     "status": "completed"
    },
    "tags": []
   },
   "outputs": [],
   "source": [
    "import random\n",
    "traincats = os.listdir('./train1/cats')\n",
    "random.shuffle(traincats)\n",
    "traindogs = os.listdir('./train1/dogs')\n",
    "random.shuffle(traindogs)\n",
    "for file_name in traincats[:10000]:\n",
    "    shutil.copy(os.path.join('./train1/cats', file_name) , os.path.join('./training_set/cats', file_name))\n",
    "for file_name in traincats[10000:]:\n",
    "    shutil.copy(os.path.join('./train1/cats', file_name) , os.path.join('./val_set/cats', file_name))\n",
    "for file_name in traindogs[:10000]:\n",
    "    shutil.copy(os.path.join('./train1/dogs', file_name) , os.path.join('./training_set/dogs', file_name))\n",
    "for file_name in traindogs[10000:]:\n",
    "    shutil.copy(os.path.join('./train1/dogs', file_name) , os.path.join('./val_set/dogs', file_name))"
   ]
  },
  {
   "cell_type": "code",
   "execution_count": 9,
   "id": "073d33f5",
   "metadata": {
    "_cell_guid": "82a54daa-9b20-44bc-8b2f-33c0620318b1",
    "_uuid": "5dd91e02-aacb-4b79-96e5-43d29b132822",
    "collapsed": false,
    "execution": {
     "iopub.execute_input": "2021-07-24T22:15:41.105795Z",
     "iopub.status.busy": "2021-07-24T22:15:41.103345Z",
     "iopub.status.idle": "2021-07-24T22:15:41.135538Z",
     "shell.execute_reply": "2021-07-24T22:15:41.137235Z",
     "shell.execute_reply.started": "2021-07-24T14:27:27.240387Z"
    },
    "jupyter": {
     "outputs_hidden": false
    },
    "papermill": {
     "duration": 0.083379,
     "end_time": "2021-07-24T22:15:41.137516",
     "exception": false,
     "start_time": "2021-07-24T22:15:41.054137",
     "status": "completed"
    },
    "tags": []
   },
   "outputs": [
    {
     "name": "stdout",
     "output_type": "stream",
     "text": [
      "10000\n",
      "10000\n",
      "2500\n",
      "2500\n"
     ]
    }
   ],
   "source": [
    "print(len(os.listdir('./training_set/cats/')))\n",
    "print(len(os.listdir('./training_set/dogs/')))\n",
    "print(len(os.listdir('./val_set/cats/')))\n",
    "print(len(os.listdir('./val_set/dogs/')))"
   ]
  },
  {
   "cell_type": "markdown",
   "id": "99fdd6ed",
   "metadata": {
    "_cell_guid": "07a32ab4-0c3b-4fef-a1e8-4983f2a00719",
    "_uuid": "b84d999a-c8b8-4a77-af95-5cc2a380ec78",
    "papermill": {
     "duration": 0.076953,
     "end_time": "2021-07-24T22:15:41.289823",
     "exception": false,
     "start_time": "2021-07-24T22:15:41.212870",
     "status": "completed"
    },
    "tags": []
   },
   "source": [
    "Now let's define our model."
   ]
  },
  {
   "cell_type": "code",
   "execution_count": 10,
   "id": "d3f526f2",
   "metadata": {
    "_cell_guid": "22abf461-abc3-40f2-afd4-31de7ad2b0a3",
    "_uuid": "eb0c44e1-edef-4bc1-9eaa-cd1a043a337d",
    "collapsed": false,
    "execution": {
     "iopub.execute_input": "2021-07-24T22:15:41.503524Z",
     "iopub.status.busy": "2021-07-24T22:15:41.493992Z",
     "iopub.status.idle": "2021-07-24T22:15:49.004449Z",
     "shell.execute_reply": "2021-07-24T22:15:49.004920Z",
     "shell.execute_reply.started": "2021-07-24T14:27:27.296439Z"
    },
    "jupyter": {
     "outputs_hidden": false
    },
    "papermill": {
     "duration": 7.621321,
     "end_time": "2021-07-24T22:15:49.005079",
     "exception": false,
     "start_time": "2021-07-24T22:15:41.383758",
     "status": "completed"
    },
    "tags": []
   },
   "outputs": [],
   "source": [
    "import tensorflow as tf\n",
    "import tensorflow.keras.layers as tfl\n",
    "\n",
    "model = tf.keras.Sequential([\n",
    "    tfl.Conv2D(64, (3,3), activation='relu', input_shape=(150, 150, 3)),\n",
    "    tfl.BatchNormalization(),\n",
    "    tfl.MaxPooling2D(2,2),\n",
    "    tfl.Conv2D(128, (3,3), activation='relu'),\n",
    "    tfl.BatchNormalization(),\n",
    "    tfl.MaxPooling2D(2,2),\n",
    "    tfl.Conv2D(256, (3,3), activation='relu'),\n",
    "    tfl.BatchNormalization(),\n",
    "    tfl.MaxPooling2D(2,2),\n",
    "    tfl.Flatten(),\n",
    "    tfl.Dense(512, activation='relu'),\n",
    "    tfl.Dense(1, activation='sigmoid')\n",
    "])"
   ]
  },
  {
   "cell_type": "code",
   "execution_count": 11,
   "id": "ea97ba95",
   "metadata": {
    "_cell_guid": "e3f956f6-3e5e-475d-a070-600314d19651",
    "_uuid": "217f002b-0576-4a62-a5d4-4c37de64d900",
    "collapsed": false,
    "execution": {
     "iopub.execute_input": "2021-07-24T22:15:49.047703Z",
     "iopub.status.busy": "2021-07-24T22:15:49.046386Z",
     "iopub.status.idle": "2021-07-24T22:15:49.055571Z",
     "shell.execute_reply": "2021-07-24T22:15:49.055054Z",
     "shell.execute_reply.started": "2021-07-24T14:27:34.182533Z"
    },
    "jupyter": {
     "outputs_hidden": false
    },
    "papermill": {
     "duration": 0.032176,
     "end_time": "2021-07-24T22:15:49.055687",
     "exception": false,
     "start_time": "2021-07-24T22:15:49.023511",
     "status": "completed"
    },
    "tags": []
   },
   "outputs": [
    {
     "name": "stdout",
     "output_type": "stream",
     "text": [
      "Model: \"sequential\"\n",
      "_________________________________________________________________\n",
      "Layer (type)                 Output Shape              Param #   \n",
      "=================================================================\n",
      "conv2d (Conv2D)              (None, 148, 148, 64)      1792      \n",
      "_________________________________________________________________\n",
      "batch_normalization (BatchNo (None, 148, 148, 64)      256       \n",
      "_________________________________________________________________\n",
      "max_pooling2d (MaxPooling2D) (None, 74, 74, 64)        0         \n",
      "_________________________________________________________________\n",
      "conv2d_1 (Conv2D)            (None, 72, 72, 128)       73856     \n",
      "_________________________________________________________________\n",
      "batch_normalization_1 (Batch (None, 72, 72, 128)       512       \n",
      "_________________________________________________________________\n",
      "max_pooling2d_1 (MaxPooling2 (None, 36, 36, 128)       0         \n",
      "_________________________________________________________________\n",
      "conv2d_2 (Conv2D)            (None, 34, 34, 256)       295168    \n",
      "_________________________________________________________________\n",
      "batch_normalization_2 (Batch (None, 34, 34, 256)       1024      \n",
      "_________________________________________________________________\n",
      "max_pooling2d_2 (MaxPooling2 (None, 17, 17, 256)       0         \n",
      "_________________________________________________________________\n",
      "flatten (Flatten)            (None, 73984)             0         \n",
      "_________________________________________________________________\n",
      "dense (Dense)                (None, 512)               37880320  \n",
      "_________________________________________________________________\n",
      "dense_1 (Dense)              (None, 1)                 513       \n",
      "=================================================================\n",
      "Total params: 38,253,441\n",
      "Trainable params: 38,252,545\n",
      "Non-trainable params: 896\n",
      "_________________________________________________________________\n"
     ]
    }
   ],
   "source": [
    "model.summary()"
   ]
  },
  {
   "cell_type": "code",
   "execution_count": 12,
   "id": "10c111d1",
   "metadata": {
    "_cell_guid": "a4beb62f-1115-478b-93d8-dcb87e2be03e",
    "_uuid": "bab3839f-f5e9-4d39-9e1f-91538c64c212",
    "collapsed": false,
    "execution": {
     "iopub.execute_input": "2021-07-24T22:15:49.103223Z",
     "iopub.status.busy": "2021-07-24T22:15:49.102445Z",
     "iopub.status.idle": "2021-07-24T22:15:49.108700Z",
     "shell.execute_reply": "2021-07-24T22:15:49.108306Z",
     "shell.execute_reply.started": "2021-07-24T14:27:34.196539Z"
    },
    "jupyter": {
     "outputs_hidden": false
    },
    "papermill": {
     "duration": 0.034672,
     "end_time": "2021-07-24T22:15:49.108809",
     "exception": false,
     "start_time": "2021-07-24T22:15:49.074137",
     "status": "completed"
    },
    "tags": []
   },
   "outputs": [],
   "source": [
    "model.compile(optimizer=tf.keras.optimizers.Adam(learning_rate = 0.001), loss='binary_crossentropy', metrics=['binary_accuracy'])"
   ]
  },
  {
   "cell_type": "markdown",
   "id": "c19347c7",
   "metadata": {
    "_cell_guid": "45af6753-f405-4936-9149-966be32f3735",
    "_uuid": "9a3a0b93-0453-4469-b43d-0a1b1a70c6a6",
    "papermill": {
     "duration": 0.018197,
     "end_time": "2021-07-24T22:15:49.145288",
     "exception": false,
     "start_time": "2021-07-24T22:15:49.127091",
     "status": "completed"
    },
    "tags": []
   },
   "source": [
    "Now, we are ready to train our Model. Except first we need to introduce our labeled data to our model. For this we will use the ImageDataGenerator."
   ]
  },
  {
   "cell_type": "code",
   "execution_count": 13,
   "id": "6597c91f",
   "metadata": {
    "_cell_guid": "e2cf433c-770a-4d51-b3b0-da250b9d0f3d",
    "_uuid": "5ac49ee8-aeb8-419b-8e2a-4e4ba3824e85",
    "collapsed": false,
    "execution": {
     "iopub.execute_input": "2021-07-24T22:15:49.186223Z",
     "iopub.status.busy": "2021-07-24T22:15:49.185501Z",
     "iopub.status.idle": "2021-07-24T22:15:49.188113Z",
     "shell.execute_reply": "2021-07-24T22:15:49.188579Z",
     "shell.execute_reply.started": "2021-07-24T14:27:40.575259Z"
    },
    "jupyter": {
     "outputs_hidden": false
    },
    "papermill": {
     "duration": 0.024942,
     "end_time": "2021-07-24T22:15:49.188701",
     "exception": false,
     "start_time": "2021-07-24T22:15:49.163759",
     "status": "completed"
    },
    "tags": []
   },
   "outputs": [],
   "source": [
    "from tensorflow.keras.preprocessing.image import ImageDataGenerator"
   ]
  },
  {
   "cell_type": "code",
   "execution_count": 14,
   "id": "50c2a035",
   "metadata": {
    "_cell_guid": "90ba0dd7-5354-4b38-b66f-41a9fc30151e",
    "_uuid": "63882dca-a8a7-4e62-b5e3-3eda5fc37081",
    "collapsed": false,
    "execution": {
     "iopub.execute_input": "2021-07-24T22:15:49.231444Z",
     "iopub.status.busy": "2021-07-24T22:15:49.230827Z",
     "iopub.status.idle": "2021-07-24T22:15:50.419819Z",
     "shell.execute_reply": "2021-07-24T22:15:50.419405Z",
     "shell.execute_reply.started": "2021-07-24T14:27:42.116734Z"
    },
    "jupyter": {
     "outputs_hidden": false
    },
    "papermill": {
     "duration": 1.21308,
     "end_time": "2021-07-24T22:15:50.419954",
     "exception": false,
     "start_time": "2021-07-24T22:15:49.206874",
     "status": "completed"
    },
    "tags": []
   },
   "outputs": [
    {
     "name": "stdout",
     "output_type": "stream",
     "text": [
      "Found 20000 images belonging to 2 classes.\n",
      "Found 5000 images belonging to 2 classes.\n"
     ]
    }
   ],
   "source": [
    "train_datagen = ImageDataGenerator(rescale=1./255,\n",
    "                                  rotation_range = 40,\n",
    "                                  width_shift_range = 0.2,\n",
    "                                  height_shift_range = 0.2,\n",
    "                                   shear_range = 0.2,\n",
    "                                   zoom_range = 0.2,\n",
    "                                   horizontal_flip = True,\n",
    "                                   fill_mode = 'nearest'\n",
    "                                  )\n",
    "train_generator = train_datagen.flow_from_directory(\n",
    "    './training_set',\n",
    "    target_size = (150,150),\n",
    "    batch_size = 8,\n",
    "    class_mode = 'binary'\n",
    ")\n",
    "val_datagen = ImageDataGenerator(rescale=1./255)\n",
    "val_generator = val_datagen.flow_from_directory(\n",
    "    './val_set/',\n",
    "    target_size = (150,150),\n",
    "    batch_size = 8,\n",
    "    class_mode = 'binary'\n",
    ")"
   ]
  },
  {
   "cell_type": "markdown",
   "id": "6f6704a6",
   "metadata": {
    "_cell_guid": "e5ab0b21-aa0b-4e71-8adf-3e95dac72466",
    "_uuid": "3a51336c-3a3b-4a8a-aead-e8e1e171c5fe",
    "papermill": {
     "duration": 0.018624,
     "end_time": "2021-07-24T22:15:50.457451",
     "exception": false,
     "start_time": "2021-07-24T22:15:50.438827",
     "status": "completed"
    },
    "tags": []
   },
   "source": [
    "Now we are ready to train our Model"
   ]
  },
  {
   "cell_type": "code",
   "execution_count": 15,
   "id": "33da660b",
   "metadata": {
    "_cell_guid": "0fd44997-f959-47bb-b91b-8a58c5c156b0",
    "_uuid": "651e19c4-a2c7-4892-9391-12d459f9ccd5",
    "collapsed": false,
    "execution": {
     "iopub.execute_input": "2021-07-24T22:15:50.498926Z",
     "iopub.status.busy": "2021-07-24T22:15:50.498341Z",
     "iopub.status.idle": "2021-07-25T03:35:53.184024Z",
     "shell.execute_reply": "2021-07-25T03:35:53.183478Z",
     "shell.execute_reply.started": "2021-07-24T14:27:43.189057Z"
    },
    "jupyter": {
     "outputs_hidden": false
    },
    "papermill": {
     "duration": 19202.707728,
     "end_time": "2021-07-25T03:35:53.184183",
     "exception": false,
     "start_time": "2021-07-24T22:15:50.476455",
     "status": "completed"
    },
    "tags": []
   },
   "outputs": [
    {
     "name": "stderr",
     "output_type": "stream",
     "text": [
      "/opt/conda/lib/python3.7/site-packages/tensorflow/python/keras/engine/training.py:1844: UserWarning: `Model.fit_generator` is deprecated and will be removed in a future version. Please use `Model.fit`, which supports generators.\n",
      "  warnings.warn('`Model.fit_generator` is deprecated and '\n"
     ]
    },
    {
     "name": "stdout",
     "output_type": "stream",
     "text": [
      "Epoch 1/100\n",
      "2500/2500 [==============================] - 189s 73ms/step - loss: 1.9672 - binary_accuracy: 0.5540 - val_loss: 0.6737 - val_binary_accuracy: 0.6154\n",
      "Epoch 2/100\n",
      "2500/2500 [==============================] - 183s 73ms/step - loss: 0.6596 - binary_accuracy: 0.6133 - val_loss: 0.6697 - val_binary_accuracy: 0.5550\n",
      "Epoch 3/100\n",
      "2500/2500 [==============================] - 184s 74ms/step - loss: 0.6439 - binary_accuracy: 0.6319 - val_loss: 0.6199 - val_binary_accuracy: 0.6300\n",
      "Epoch 4/100\n",
      "2500/2500 [==============================] - 190s 76ms/step - loss: 0.6189 - binary_accuracy: 0.6596 - val_loss: 0.5309 - val_binary_accuracy: 0.7454\n",
      "Epoch 5/100\n",
      "2500/2500 [==============================] - 192s 77ms/step - loss: 0.5650 - binary_accuracy: 0.7105 - val_loss: 0.6674 - val_binary_accuracy: 0.7184\n",
      "Epoch 6/100\n",
      "2500/2500 [==============================] - 189s 76ms/step - loss: 0.5182 - binary_accuracy: 0.7486 - val_loss: 0.6981 - val_binary_accuracy: 0.6560\n",
      "Epoch 7/100\n",
      "2500/2500 [==============================] - 189s 76ms/step - loss: 0.4663 - binary_accuracy: 0.7781 - val_loss: 0.4160 - val_binary_accuracy: 0.8374\n",
      "Epoch 8/100\n",
      "2500/2500 [==============================] - 190s 76ms/step - loss: 0.4424 - binary_accuracy: 0.7959 - val_loss: 0.4231 - val_binary_accuracy: 0.8262\n",
      "Epoch 9/100\n",
      "2500/2500 [==============================] - 187s 75ms/step - loss: 0.4119 - binary_accuracy: 0.8140 - val_loss: 0.4315 - val_binary_accuracy: 0.8084\n",
      "Epoch 10/100\n",
      "2500/2500 [==============================] - 195s 78ms/step - loss: 0.4011 - binary_accuracy: 0.8199 - val_loss: 0.3561 - val_binary_accuracy: 0.8456\n",
      "Epoch 11/100\n",
      "2500/2500 [==============================] - 199s 80ms/step - loss: 0.3867 - binary_accuracy: 0.8235 - val_loss: 0.3734 - val_binary_accuracy: 0.8474\n",
      "Epoch 12/100\n",
      "2500/2500 [==============================] - 186s 74ms/step - loss: 0.3785 - binary_accuracy: 0.8380 - val_loss: 0.3083 - val_binary_accuracy: 0.8696\n",
      "Epoch 13/100\n",
      "2500/2500 [==============================] - 186s 74ms/step - loss: 0.3755 - binary_accuracy: 0.8313 - val_loss: 0.2851 - val_binary_accuracy: 0.8786\n",
      "Epoch 14/100\n",
      "2500/2500 [==============================] - 195s 78ms/step - loss: 0.3501 - binary_accuracy: 0.8513 - val_loss: 0.3940 - val_binary_accuracy: 0.8452\n",
      "Epoch 15/100\n",
      "2500/2500 [==============================] - 187s 75ms/step - loss: 0.3571 - binary_accuracy: 0.8439 - val_loss: 0.3038 - val_binary_accuracy: 0.8868\n",
      "Epoch 16/100\n",
      "2500/2500 [==============================] - 188s 75ms/step - loss: 0.3384 - binary_accuracy: 0.8510 - val_loss: 1.6370 - val_binary_accuracy: 0.6256\n",
      "Epoch 17/100\n",
      "2500/2500 [==============================] - 197s 79ms/step - loss: 0.3374 - binary_accuracy: 0.8502 - val_loss: 0.3082 - val_binary_accuracy: 0.8658\n",
      "Epoch 18/100\n",
      "2500/2500 [==============================] - 188s 75ms/step - loss: 0.3339 - binary_accuracy: 0.8552 - val_loss: 0.4182 - val_binary_accuracy: 0.8514\n",
      "Epoch 19/100\n",
      "2500/2500 [==============================] - 189s 76ms/step - loss: 0.3331 - binary_accuracy: 0.8511 - val_loss: 0.2473 - val_binary_accuracy: 0.8996\n",
      "Epoch 20/100\n",
      "2500/2500 [==============================] - 200s 80ms/step - loss: 0.3215 - binary_accuracy: 0.8617 - val_loss: 0.2531 - val_binary_accuracy: 0.8994\n",
      "Epoch 21/100\n",
      "2500/2500 [==============================] - 191s 76ms/step - loss: 0.3205 - binary_accuracy: 0.8631 - val_loss: 0.2483 - val_binary_accuracy: 0.8986\n",
      "Epoch 22/100\n",
      "2500/2500 [==============================] - 189s 76ms/step - loss: 0.3148 - binary_accuracy: 0.8657 - val_loss: 0.2986 - val_binary_accuracy: 0.8680\n",
      "Epoch 23/100\n",
      "2500/2500 [==============================] - 204s 82ms/step - loss: 0.3176 - binary_accuracy: 0.8622 - val_loss: 0.2334 - val_binary_accuracy: 0.9046\n",
      "Epoch 24/100\n",
      "2500/2500 [==============================] - 178s 71ms/step - loss: 0.3065 - binary_accuracy: 0.8669 - val_loss: 0.2164 - val_binary_accuracy: 0.9074\n",
      "Epoch 25/100\n",
      "2500/2500 [==============================] - 191s 76ms/step - loss: 0.2928 - binary_accuracy: 0.8754 - val_loss: 0.2645 - val_binary_accuracy: 0.8882\n",
      "Epoch 26/100\n",
      "2500/2500 [==============================] - 195s 78ms/step - loss: 0.3011 - binary_accuracy: 0.8693 - val_loss: 0.2449 - val_binary_accuracy: 0.8948\n",
      "Epoch 27/100\n",
      "2500/2500 [==============================] - 178s 71ms/step - loss: 0.3074 - binary_accuracy: 0.8671 - val_loss: 0.2324 - val_binary_accuracy: 0.9048\n",
      "Epoch 28/100\n",
      "2500/2500 [==============================] - 197s 79ms/step - loss: 0.3072 - binary_accuracy: 0.8676 - val_loss: 0.2361 - val_binary_accuracy: 0.9044\n",
      "Epoch 29/100\n",
      "2500/2500 [==============================] - 195s 78ms/step - loss: 0.2924 - binary_accuracy: 0.8731 - val_loss: 0.2269 - val_binary_accuracy: 0.9054\n",
      "Epoch 30/100\n",
      "2500/2500 [==============================] - 180s 72ms/step - loss: 0.3048 - binary_accuracy: 0.8685 - val_loss: 0.2299 - val_binary_accuracy: 0.9078\n",
      "Epoch 31/100\n",
      "2500/2500 [==============================] - 195s 78ms/step - loss: 0.2855 - binary_accuracy: 0.8806 - val_loss: 0.2174 - val_binary_accuracy: 0.9106\n",
      "Epoch 32/100\n",
      "2500/2500 [==============================] - 193s 77ms/step - loss: 0.2919 - binary_accuracy: 0.8763 - val_loss: 0.2515 - val_binary_accuracy: 0.9062\n",
      "Epoch 33/100\n",
      "2500/2500 [==============================] - 178s 71ms/step - loss: 0.2927 - binary_accuracy: 0.8746 - val_loss: 0.2823 - val_binary_accuracy: 0.8866\n",
      "Epoch 34/100\n",
      "2500/2500 [==============================] - 195s 78ms/step - loss: 0.2944 - binary_accuracy: 0.8753 - val_loss: 0.3249 - val_binary_accuracy: 0.8704\n",
      "Epoch 35/100\n",
      "2500/2500 [==============================] - 198s 79ms/step - loss: 0.2759 - binary_accuracy: 0.8830 - val_loss: 0.1979 - val_binary_accuracy: 0.9204\n",
      "Epoch 36/100\n",
      "2500/2500 [==============================] - 178s 71ms/step - loss: 0.2850 - binary_accuracy: 0.8798 - val_loss: 0.2247 - val_binary_accuracy: 0.9060\n",
      "Epoch 37/100\n",
      "2500/2500 [==============================] - 197s 79ms/step - loss: 0.2765 - binary_accuracy: 0.8826 - val_loss: 0.2644 - val_binary_accuracy: 0.8892\n",
      "Epoch 38/100\n",
      "2500/2500 [==============================] - 200s 80ms/step - loss: 0.2723 - binary_accuracy: 0.8855 - val_loss: 0.2290 - val_binary_accuracy: 0.9052\n",
      "Epoch 39/100\n",
      "2500/2500 [==============================] - 176s 70ms/step - loss: 0.2735 - binary_accuracy: 0.8829 - val_loss: 0.2559 - val_binary_accuracy: 0.8994\n",
      "Epoch 40/100\n",
      "2500/2500 [==============================] - 204s 82ms/step - loss: 0.2599 - binary_accuracy: 0.8906 - val_loss: 0.2513 - val_binary_accuracy: 0.9002\n",
      "Epoch 41/100\n",
      "2500/2500 [==============================] - 201s 80ms/step - loss: 0.2566 - binary_accuracy: 0.8936 - val_loss: 0.2291 - val_binary_accuracy: 0.9082\n",
      "Epoch 42/100\n",
      "2500/2500 [==============================] - 176s 70ms/step - loss: 0.2667 - binary_accuracy: 0.8903 - val_loss: 0.2207 - val_binary_accuracy: 0.9132\n",
      "Epoch 43/100\n",
      "2500/2500 [==============================] - 207s 83ms/step - loss: 0.2622 - binary_accuracy: 0.8873 - val_loss: 0.2162 - val_binary_accuracy: 0.9100\n",
      "Epoch 44/100\n",
      "2500/2500 [==============================] - 207s 83ms/step - loss: 0.2581 - binary_accuracy: 0.8933 - val_loss: 0.2831 - val_binary_accuracy: 0.8832\n",
      "Epoch 45/100\n",
      "2500/2500 [==============================] - 182s 73ms/step - loss: 0.2648 - binary_accuracy: 0.8883 - val_loss: 0.1823 - val_binary_accuracy: 0.9298\n",
      "Epoch 46/100\n",
      "2500/2500 [==============================] - 210s 84ms/step - loss: 0.2752 - binary_accuracy: 0.8805 - val_loss: 0.1856 - val_binary_accuracy: 0.9234\n",
      "Epoch 47/100\n",
      "2500/2500 [==============================] - 210s 84ms/step - loss: 0.2641 - binary_accuracy: 0.8903 - val_loss: 0.3320 - val_binary_accuracy: 0.8940\n",
      "Epoch 48/100\n",
      "2500/2500 [==============================] - 184s 73ms/step - loss: 0.2587 - binary_accuracy: 0.8931 - val_loss: 0.4988 - val_binary_accuracy: 0.8734\n",
      "Epoch 49/100\n",
      "2500/2500 [==============================] - 182s 73ms/step - loss: 0.2575 - binary_accuracy: 0.8922 - val_loss: 0.1897 - val_binary_accuracy: 0.9178\n",
      "Epoch 50/100\n",
      "2500/2500 [==============================] - 207s 83ms/step - loss: 0.2455 - binary_accuracy: 0.8976 - val_loss: 0.2918 - val_binary_accuracy: 0.8880\n",
      "Epoch 51/100\n",
      "2500/2500 [==============================] - 180s 72ms/step - loss: 0.2491 - binary_accuracy: 0.8947 - val_loss: 0.1887 - val_binary_accuracy: 0.9232\n",
      "Epoch 52/100\n",
      "2500/2500 [==============================] - 177s 71ms/step - loss: 0.2439 - binary_accuracy: 0.8958 - val_loss: 0.1823 - val_binary_accuracy: 0.9268\n",
      "Epoch 53/100\n",
      "2500/2500 [==============================] - 206s 82ms/step - loss: 0.2536 - binary_accuracy: 0.8914 - val_loss: 0.2816 - val_binary_accuracy: 0.8992\n",
      "Epoch 54/100\n",
      "2500/2500 [==============================] - 177s 71ms/step - loss: 0.2529 - binary_accuracy: 0.8953 - val_loss: 0.1895 - val_binary_accuracy: 0.9252\n",
      "Epoch 55/100\n",
      "2500/2500 [==============================] - 178s 71ms/step - loss: 0.2490 - binary_accuracy: 0.9000 - val_loss: 0.2182 - val_binary_accuracy: 0.9182\n",
      "Epoch 56/100\n",
      "2500/2500 [==============================] - 211s 84ms/step - loss: 0.2435 - binary_accuracy: 0.8997 - val_loss: 0.2140 - val_binary_accuracy: 0.9212\n",
      "Epoch 57/100\n",
      "2500/2500 [==============================] - 178s 71ms/step - loss: 0.2460 - binary_accuracy: 0.8958 - val_loss: 0.3382 - val_binary_accuracy: 0.8830\n",
      "Epoch 58/100\n",
      "2500/2500 [==============================] - 178s 71ms/step - loss: 0.2458 - binary_accuracy: 0.8972 - val_loss: 0.2533 - val_binary_accuracy: 0.8934\n",
      "Epoch 59/100\n",
      "2500/2500 [==============================] - 208s 83ms/step - loss: 0.2517 - binary_accuracy: 0.8969 - val_loss: 0.2141 - val_binary_accuracy: 0.9210\n",
      "Epoch 60/100\n",
      "2500/2500 [==============================] - 178s 71ms/step - loss: 0.2470 - binary_accuracy: 0.8992 - val_loss: 0.2481 - val_binary_accuracy: 0.9160\n",
      "Epoch 61/100\n",
      "2500/2500 [==============================] - 190s 76ms/step - loss: 0.2361 - binary_accuracy: 0.8998 - val_loss: 0.2244 - val_binary_accuracy: 0.9110\n",
      "Epoch 62/100\n",
      "2500/2500 [==============================] - 206s 83ms/step - loss: 0.2432 - binary_accuracy: 0.8991 - val_loss: 0.2423 - val_binary_accuracy: 0.9104\n",
      "Epoch 63/100\n",
      "2500/2500 [==============================] - 181s 73ms/step - loss: 0.2456 - binary_accuracy: 0.8970 - val_loss: 0.2058 - val_binary_accuracy: 0.9236\n",
      "Epoch 64/100\n",
      "2500/2500 [==============================] - 209s 84ms/step - loss: 0.2371 - binary_accuracy: 0.9011 - val_loss: 0.2195 - val_binary_accuracy: 0.9148\n",
      "Epoch 65/100\n",
      "2500/2500 [==============================] - 192s 77ms/step - loss: 0.2354 - binary_accuracy: 0.9008 - val_loss: 0.2291 - val_binary_accuracy: 0.9064\n",
      "Epoch 66/100\n",
      "2500/2500 [==============================] - 183s 73ms/step - loss: 0.2414 - binary_accuracy: 0.8991 - val_loss: 0.2062 - val_binary_accuracy: 0.9164\n",
      "Epoch 67/100\n",
      "2500/2500 [==============================] - 226s 90ms/step - loss: 0.2484 - binary_accuracy: 0.8928 - val_loss: 0.2263 - val_binary_accuracy: 0.9160\n",
      "Epoch 68/100\n",
      "2500/2500 [==============================] - 183s 73ms/step - loss: 0.2304 - binary_accuracy: 0.9019 - val_loss: 0.1954 - val_binary_accuracy: 0.9264\n",
      "Epoch 69/100\n",
      "2500/2500 [==============================] - 179s 72ms/step - loss: 0.2364 - binary_accuracy: 0.8992 - val_loss: 0.2087 - val_binary_accuracy: 0.9138\n",
      "Epoch 70/100\n",
      "2500/2500 [==============================] - 220s 88ms/step - loss: 0.2363 - binary_accuracy: 0.9022 - val_loss: 0.2592 - val_binary_accuracy: 0.9106\n",
      "Epoch 71/100\n",
      "2500/2500 [==============================] - 178s 71ms/step - loss: 0.2343 - binary_accuracy: 0.9012 - val_loss: 0.2253 - val_binary_accuracy: 0.9194\n",
      "Epoch 72/100\n",
      "2500/2500 [==============================] - 179s 71ms/step - loss: 0.2291 - binary_accuracy: 0.9060 - val_loss: 0.1752 - val_binary_accuracy: 0.9334\n",
      "Epoch 73/100\n",
      "2500/2500 [==============================] - 222s 89ms/step - loss: 0.2297 - binary_accuracy: 0.9024 - val_loss: 0.2133 - val_binary_accuracy: 0.9154\n",
      "Epoch 74/100\n",
      "2500/2500 [==============================] - 178s 71ms/step - loss: 0.2245 - binary_accuracy: 0.9069 - val_loss: 0.2273 - val_binary_accuracy: 0.9084\n",
      "Epoch 75/100\n",
      "2500/2500 [==============================] - 179s 72ms/step - loss: 0.2208 - binary_accuracy: 0.9048 - val_loss: 0.2657 - val_binary_accuracy: 0.9162\n",
      "Epoch 76/100\n",
      "2500/2500 [==============================] - 223s 89ms/step - loss: 0.2297 - binary_accuracy: 0.9048 - val_loss: 0.2496 - val_binary_accuracy: 0.9262\n",
      "Epoch 77/100\n",
      "2500/2500 [==============================] - 180s 72ms/step - loss: 0.2318 - binary_accuracy: 0.9036 - val_loss: 0.1833 - val_binary_accuracy: 0.9210\n",
      "Epoch 78/100\n",
      "2500/2500 [==============================] - 180s 72ms/step - loss: 0.2158 - binary_accuracy: 0.9121 - val_loss: 0.1734 - val_binary_accuracy: 0.9340\n",
      "Epoch 79/100\n",
      "2500/2500 [==============================] - 230s 92ms/step - loss: 0.2353 - binary_accuracy: 0.9022 - val_loss: 0.2123 - val_binary_accuracy: 0.9242\n",
      "Epoch 80/100\n",
      "2500/2500 [==============================] - 183s 73ms/step - loss: 0.2201 - binary_accuracy: 0.9099 - val_loss: 0.1713 - val_binary_accuracy: 0.9308\n",
      "Epoch 81/100\n",
      "2500/2500 [==============================] - 179s 72ms/step - loss: 0.2348 - binary_accuracy: 0.9027 - val_loss: 0.1960 - val_binary_accuracy: 0.9272\n",
      "Epoch 82/100\n",
      "2500/2500 [==============================] - 225s 90ms/step - loss: 0.2171 - binary_accuracy: 0.9145 - val_loss: 0.2157 - val_binary_accuracy: 0.9130\n",
      "Epoch 83/100\n",
      "2500/2500 [==============================] - 177s 71ms/step - loss: 0.2244 - binary_accuracy: 0.9078 - val_loss: 0.1868 - val_binary_accuracy: 0.9272\n",
      "Epoch 84/100\n",
      "2500/2500 [==============================] - 181s 73ms/step - loss: 0.2172 - binary_accuracy: 0.9087 - val_loss: 0.1804 - val_binary_accuracy: 0.9336\n",
      "Epoch 85/100\n",
      "2500/2500 [==============================] - 228s 91ms/step - loss: 0.2302 - binary_accuracy: 0.9016 - val_loss: 0.1765 - val_binary_accuracy: 0.9316\n",
      "Epoch 86/100\n",
      "2500/2500 [==============================] - 179s 72ms/step - loss: 0.2242 - binary_accuracy: 0.9058 - val_loss: 0.1697 - val_binary_accuracy: 0.9372\n",
      "Epoch 87/100\n",
      "2500/2500 [==============================] - 179s 72ms/step - loss: 0.2113 - binary_accuracy: 0.9131 - val_loss: 0.1828 - val_binary_accuracy: 0.9286\n",
      "Epoch 88/100\n",
      "2500/2500 [==============================] - 233s 93ms/step - loss: 0.2099 - binary_accuracy: 0.9132 - val_loss: 0.1784 - val_binary_accuracy: 0.9338\n",
      "Epoch 89/100\n",
      "2500/2500 [==============================] - 179s 72ms/step - loss: 0.2267 - binary_accuracy: 0.9048 - val_loss: 0.1923 - val_binary_accuracy: 0.9244\n",
      "Epoch 90/100\n",
      "2500/2500 [==============================] - 180s 72ms/step - loss: 0.2156 - binary_accuracy: 0.9106 - val_loss: 0.2158 - val_binary_accuracy: 0.9254\n",
      "Epoch 91/100\n",
      "2500/2500 [==============================] - 234s 94ms/step - loss: 0.2214 - binary_accuracy: 0.9081 - val_loss: 0.2691 - val_binary_accuracy: 0.9086\n",
      "Epoch 92/100\n",
      "2500/2500 [==============================] - 180s 72ms/step - loss: 0.2213 - binary_accuracy: 0.9080 - val_loss: 0.1771 - val_binary_accuracy: 0.9312\n",
      "Epoch 93/100\n",
      "2500/2500 [==============================] - 179s 72ms/step - loss: 0.2153 - binary_accuracy: 0.9087 - val_loss: 0.1896 - val_binary_accuracy: 0.9268\n",
      "Epoch 94/100\n",
      "2500/2500 [==============================] - 179s 72ms/step - loss: 0.2206 - binary_accuracy: 0.9071 - val_loss: 0.1811 - val_binary_accuracy: 0.9304\n",
      "Epoch 95/100\n",
      "2500/2500 [==============================] - 180s 72ms/step - loss: 0.2148 - binary_accuracy: 0.9112 - val_loss: 0.1735 - val_binary_accuracy: 0.9302\n",
      "Epoch 96/100\n",
      "2500/2500 [==============================] - 178s 71ms/step - loss: 0.2096 - binary_accuracy: 0.9134 - val_loss: 0.2377 - val_binary_accuracy: 0.9306\n",
      "Epoch 97/100\n",
      "2500/2500 [==============================] - 234s 94ms/step - loss: 0.2077 - binary_accuracy: 0.9148 - val_loss: 0.1856 - val_binary_accuracy: 0.9396\n",
      "Epoch 98/100\n",
      "2500/2500 [==============================] - 180s 72ms/step - loss: 0.2158 - binary_accuracy: 0.9113 - val_loss: 0.1776 - val_binary_accuracy: 0.9384\n",
      "Epoch 99/100\n",
      "2500/2500 [==============================] - 180s 72ms/step - loss: 0.2104 - binary_accuracy: 0.9134 - val_loss: 0.2080 - val_binary_accuracy: 0.9316\n",
      "Epoch 100/100\n",
      "2500/2500 [==============================] - 178s 71ms/step - loss: 0.2194 - binary_accuracy: 0.9087 - val_loss: 0.2330 - val_binary_accuracy: 0.9252\n"
     ]
    }
   ],
   "source": [
    "history = model.fit_generator(train_generator, epochs=100, validation_data=val_generator)"
   ]
  },
  {
   "cell_type": "code",
   "execution_count": 16,
   "id": "e77955e4",
   "metadata": {
    "_cell_guid": "b573dbd9-ebb1-4d1c-8f18-aaaea152f09b",
    "_uuid": "3ac41dcf-4c1d-46c8-b855-f5749345fe0d",
    "collapsed": false,
    "execution": {
     "iopub.execute_input": "2021-07-25T03:38:14.470051Z",
     "iopub.status.busy": "2021-07-25T03:38:14.450713Z",
     "iopub.status.idle": "2021-07-25T03:38:14.782983Z",
     "shell.execute_reply": "2021-07-25T03:38:14.782531Z",
     "shell.execute_reply.started": "2021-07-24T19:21:42.259724Z"
    },
    "jupyter": {
     "outputs_hidden": false
    },
    "papermill": {
     "duration": 71.123085,
     "end_time": "2021-07-25T03:38:14.783104",
     "exception": false,
     "start_time": "2021-07-25T03:37:03.660019",
     "status": "completed"
    },
    "tags": []
   },
   "outputs": [
    {
     "data": {
      "image/png": "[encoded data removed]",
      "text/plain": [
       "<Figure size 1080x1080 with 2 Axes>"
      ]
     },
     "metadata": {
      "needs_background": "light"
     },
     "output_type": "display_data"
    }
   ],
   "source": [
    "import matplotlib.pyplot as plt \n",
    "acc = history.history['binary_accuracy']\n",
    "val_acc = history.history['val_binary_accuracy']\n",
    "loss = history.history['loss']\n",
    "val_loss = history.history['val_loss']\n",
    "epochs_range = range(len(acc))\n",
    "\n",
    "plt.figure(figsize=(15, 15))\n",
    "plt.subplot(2, 2, 1)\n",
    "plt.plot(epochs_range, acc, label='Training Accuracy')\n",
    "plt.plot(epochs_range, val_acc, label='Validation Accuracy')\n",
    "plt.legend(loc='lower right')\n",
    "plt.title('Training and Validation Accuracy')\n",
    "\n",
    "plt.subplot(2, 2, 2)\n",
    "plt.plot(epochs_range, loss, label='Training Loss')\n",
    "plt.plot(epochs_range, val_loss, label='Validation Loss')\n",
    "plt.legend(loc='upper right')\n",
    "plt.title('Training and Validation Loss')\n",
    "plt.show()"
   ]
  },
  {
   "cell_type": "code",
   "execution_count": null,
   "id": "b256e98a",
   "metadata": {
    "_cell_guid": "676aaef5-b8c4-4338-bff3-78f30f44fb94",
    "_uuid": "38069796-d884-4b6a-883a-04d8f676f6f0",
    "collapsed": false,
    "jupyter": {
     "outputs_hidden": false
    },
    "papermill": {
     "duration": 71.386586,
     "end_time": "2021-07-25T03:40:37.447838",
     "exception": false,
     "start_time": "2021-07-25T03:39:26.061252",
     "status": "completed"
    },
    "tags": []
   },
   "outputs": [],
   "source": []
  },
  {
   "cell_type": "code",
   "execution_count": null,
   "id": "8214d6de",
   "metadata": {
    "_cell_guid": "7c94d1ec-0eb1-4aca-a7a3-21464fff12c7",
    "_uuid": "091bd9da-8646-4f35-8af9-7a38dd0e5d8f",
    "collapsed": false,
    "jupyter": {
     "outputs_hidden": false
    },
    "papermill": {
     "duration": 70.747883,
     "end_time": "2021-07-25T03:42:58.495347",
     "exception": false,
     "start_time": "2021-07-25T03:41:47.747464",
     "status": "completed"
    },
    "tags": []
   },
   "outputs": [],
   "source": []
  }
 ],
 "metadata": {
  "kernelspec": {
   "display_name": "Python 3",
   "language": "python",
   "name": "python3"
  },
  "language_info": {
   "codemirror_mode": {
    "name": "ipython",
    "version": 3
   },
   "file_extension": ".py",
   "mimetype": "text/x-python",
   "name": "python",
   "nbconvert_exporter": "python",
   "pygments_lexer": "ipython3",
   "version": "3.7.10"
  },
  "papermill": {
   "default_parameters": {},
   "duration": 19741.459792,
   "end_time": "2021-07-25T03:44:11.182011",
   "environment_variables": {},
   "exception": null,
   "input_path": "__notebook__.ipynb",
   "output_path": "__notebook__.ipynb",
   "parameters": {},
   "start_time": "2021-07-24T22:15:09.722219",
   "version": "2.3.3"
  }
 },
 "nbformat": 4,
 "nbformat_minor": 5
}
